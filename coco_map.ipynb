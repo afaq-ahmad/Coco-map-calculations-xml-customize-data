{
 "cells": [
  {
   "cell_type": "code",
   "execution_count": 7,
   "metadata": {},
   "outputs": [],
   "source": [
    "import pandas as pd\n",
    "import os\n",
    "import shutil\n",
    "import numpy as np\n",
    "import glob\n",
    "import json\n",
    "from pycocotools.coco import COCO\n",
    "from pycocotools.cocoeval import COCOeval\n",
    "\n",
    "XML_folder='Gt_annotations/'\n",
    "Pre_Files_dir='Predicted/'\n",
    "\n",
    "File_name_change_Dir=XML_folder.replace('/','').replace('\\\\','')+'_INT_Fortmat'\n",
    "Ground_truth_json=XML_folder.replace('/','').replace('\\\\','')+'.json'\n",
    "Files_names_data_path=Pre_Files_dir.replace('/','').replace('\\\\','')+'.csv'\n",
    "\n",
    "Files=os.listdir(XML_folder)\n",
    "if not os.path.exists(File_name_change_Dir):\n",
    "    os.mkdir(File_name_change_Dir)\n",
    "\n",
    "Files_names_data=[]\n",
    "for file in Files:\n",
    "    shutil.copy(XML_folder+'/'+file,File_name_change_Dir+'/'+str(Files.index(file))+'.xml')\n",
    "    Files_names_data.append([file,str(Files.index(file))+'.xml'])\n",
    "\n",
    "Files_names_data=pd.DataFrame(Files_names_data,columns=['Old File Name','New File Name'])"
   ]
  },
  {
   "cell_type": "code",
   "execution_count": 8,
   "metadata": {},
   "outputs": [
    {
     "name": "stdout",
     "output_type": "stream",
     "text": [
      "Number of xml files: 2877\n"
     ]
    }
   ],
   "source": [
    "from voc2coco import convert\n",
    "xml_files = glob.glob(os.path.join(File_name_change_Dir, \"*.xml\"))\n",
    "print(\"Number of xml files: {}\".format(len(xml_files)))\n",
    "convert(xml_files, Ground_truth_json)"
   ]
  },
  {
   "cell_type": "code",
   "execution_count": 9,
   "metadata": {},
   "outputs": [],
   "source": [
    "with open(Ground_truth_json,'r') as f:\n",
    "    Data_gt=json.load(f)\n",
    "\n",
    "Actual_Files_names=pd.DataFrame([[g['file_name'].split('\\\\')[-1],g['id']] for g in Data_gt['images']],columns=['Imagename','id'])\n",
    "Pre_Files=os.listdir(Pre_Files_dir)"
   ]
  },
  {
   "cell_type": "code",
   "execution_count": null,
   "metadata": {},
   "outputs": [],
   "source": []
  },
  {
   "cell_type": "code",
   "execution_count": 10,
   "metadata": {},
   "outputs": [
    {
     "name": "stdout",
     "output_type": "stream",
     "text": [
      "loading annotations into memory...\n",
      "Done (t=0.02s)\n",
      "creating index...\n",
      "index created!\n",
      "Loading and preparing results...\n",
      "DONE (t=0.25s)\n",
      "creating index...\n",
      "index created!\n",
      "Running per image evaluation...\n",
      "Evaluate annotation type *bbox*\n",
      "DONE (t=2.43s).\n",
      "Accumulating evaluation results...\n",
      "DONE (t=0.27s).\n",
      " Average Precision  (AP) @[ IoU=0.50:0.95 | area=   all | maxDets=100 ] = 0.672\n",
      " Average Precision  (AP) @[ IoU=0.50      | area=   all | maxDets=100 ] = 0.869\n",
      " Average Precision  (AP) @[ IoU=0.75      | area=   all | maxDets=100 ] = 0.751\n",
      " Average Precision  (AP) @[ IoU=0.50:0.95 | area= small | maxDets=100 ] = -1.000\n",
      " Average Precision  (AP) @[ IoU=0.50:0.95 | area=medium | maxDets=100 ] = 0.000\n",
      " Average Precision  (AP) @[ IoU=0.50:0.95 | area= large | maxDets=100 ] = 0.672\n",
      " Average Recall     (AR) @[ IoU=0.50:0.95 | area=   all | maxDets=  1 ] = 0.475\n",
      " Average Recall     (AR) @[ IoU=0.50:0.95 | area=   all | maxDets= 10 ] = 0.736\n",
      " Average Recall     (AR) @[ IoU=0.50:0.95 | area=   all | maxDets=100 ] = 0.736\n",
      " Average Recall     (AR) @[ IoU=0.50:0.95 | area= small | maxDets=100 ] = -1.000\n",
      " Average Recall     (AR) @[ IoU=0.50:0.95 | area=medium | maxDets=100 ] = 0.000\n",
      " Average Recall     (AR) @[ IoU=0.50:0.95 | area= large | maxDets=100 ] = 0.736\n"
     ]
    }
   ],
   "source": [
    "\n",
    "Data_predicted_json=[]\n",
    "for ii in range(len(Pre_Files)):\n",
    "#     print(ii)\n",
    "    with open(Pre_Files_dir+'/'+Pre_Files[ii],'r') as f:\n",
    "        prefile_data=f.read().split('\\n')\n",
    "        prefile_data=[g.split() for g in prefile_data if g!='']\n",
    "        if len(prefile_data)==0:\n",
    "            continue\n",
    "        prefile_data=np.array(prefile_data)\n",
    "        prefile_data=prefile_data.astype(object)\n",
    "        prefile_data[:,1]=prefile_data[:,1].astype(float)\n",
    "        prefile_data[:,2:]=prefile_data[:,2:].astype(int)\n",
    "        \n",
    "    File_new_name=Files_names_data[Files_names_data['Old File Name']==Pre_Files[ii].replace('.txt','.xml')]['New File Name'].values\n",
    "    if len(File_new_name)==0:\n",
    "        File_new_name=Files_names_data[Files_names_data['Old File Name']==Pre_Files[ii].replace('.txt','.pdf.xml')]['New File Name'].values\n",
    "        if len(File_new_name)==0:\n",
    "            continue\n",
    "        File_new_name=File_new_name[0]\n",
    "    else:\n",
    "        File_new_name=File_new_name[0]\n",
    "    Image_id=Actual_Files_names[Actual_Files_names['Imagename']==File_new_name.replace('.xml','.png')]['id'].values\n",
    "    if len(Image_id)==0:\n",
    "        Image_id=Actual_Files_names[Actual_Files_names['Imagename']==File_new_name.replace('.xml','.jpg')]['id'].values\n",
    "    for g in prefile_data:\n",
    "        _,score,x1,y1,x2,y2=g\n",
    "        Data_predicted_json.append({\"image_id\":Image_id[0],\"category_id\":0,\"bbox\":[x1,y1,x2-x1,y2-y1],\"score\":score})\n",
    "\n",
    "cocoGt=COCO(Ground_truth_json)\n",
    "cocoDt=cocoGt.loadRes(Data_predicted_json)\n",
    "\n",
    "cocoEval = COCOeval(cocoGt,cocoDt,'bbox')\n",
    "cocoEval.evaluate()\n",
    "cocoEval.accumulate()\n",
    "cocoEval.summarize()"
   ]
  },
  {
   "cell_type": "code",
   "execution_count": null,
   "metadata": {},
   "outputs": [],
   "source": []
  },
  {
   "cell_type": "code",
   "execution_count": null,
   "metadata": {},
   "outputs": [],
   "source": []
  },
  {
   "cell_type": "code",
   "execution_count": 21,
   "metadata": {
    "scrolled": true
   },
   "outputs": [
    {
     "name": "stdout",
     "output_type": "stream",
     "text": [
      "Running per image evaluation...\n",
      "Evaluate annotation type *bbox*\n",
      "DONE (t=0.86s).\n",
      "Accumulating evaluation results...\n",
      "DONE (t=0.15s).\n",
      " Average Precision  (AP) @[ IoU=0.01:0.01 | area=   all | maxDets=100 ] = 0.941\n",
      " Average Precision  (AP) @[ IoU=0.50      | area=   all | maxDets=100 ] = -1.000\n",
      " Average Precision  (AP) @[ IoU=0.75      | area=   all | maxDets=100 ] = -1.000\n",
      " Average Precision  (AP) @[ IoU=0.01:0.01 | area= small | maxDets=100 ] = -1.000\n",
      " Average Precision  (AP) @[ IoU=0.01:0.01 | area=medium | maxDets=100 ] = 0.000\n",
      " Average Precision  (AP) @[ IoU=0.01:0.01 | area= large | maxDets=100 ] = 0.941\n",
      " Average Recall     (AR) @[ IoU=0.01:0.01 | area=   all | maxDets=  1 ] = 0.587\n",
      " Average Recall     (AR) @[ IoU=0.01:0.01 | area=   all | maxDets= 10 ] = 0.978\n",
      " Average Recall     (AR) @[ IoU=0.01:0.01 | area=   all | maxDets=100 ] = 0.978\n",
      " Average Recall     (AR) @[ IoU=0.01:0.01 | area= small | maxDets=100 ] = -1.000\n",
      " Average Recall     (AR) @[ IoU=0.01:0.01 | area=medium | maxDets=100 ] = 0.000\n",
      " Average Recall     (AR) @[ IoU=0.01:0.01 | area= large | maxDets=100 ] = 0.978\n",
      "Running per image evaluation...\n",
      "Evaluate annotation type *bbox*\n",
      "DONE (t=0.86s).\n",
      "Accumulating evaluation results...\n",
      "DONE (t=0.14s).\n",
      " Average Precision  (AP) @[ IoU=0.10:0.10 | area=   all | maxDets=100 ] = 0.940\n",
      " Average Precision  (AP) @[ IoU=0.50      | area=   all | maxDets=100 ] = -1.000\n",
      " Average Precision  (AP) @[ IoU=0.75      | area=   all | maxDets=100 ] = -1.000\n",
      " Average Precision  (AP) @[ IoU=0.10:0.10 | area= small | maxDets=100 ] = -1.000\n",
      " Average Precision  (AP) @[ IoU=0.10:0.10 | area=medium | maxDets=100 ] = 0.000\n",
      " Average Precision  (AP) @[ IoU=0.10:0.10 | area= large | maxDets=100 ] = 0.940\n",
      " Average Recall     (AR) @[ IoU=0.10:0.10 | area=   all | maxDets=  1 ] = 0.586\n",
      " Average Recall     (AR) @[ IoU=0.10:0.10 | area=   all | maxDets= 10 ] = 0.973\n",
      " Average Recall     (AR) @[ IoU=0.10:0.10 | area=   all | maxDets=100 ] = 0.973\n",
      " Average Recall     (AR) @[ IoU=0.10:0.10 | area= small | maxDets=100 ] = -1.000\n",
      " Average Recall     (AR) @[ IoU=0.10:0.10 | area=medium | maxDets=100 ] = 0.000\n",
      " Average Recall     (AR) @[ IoU=0.10:0.10 | area= large | maxDets=100 ] = 0.973\n",
      "Running per image evaluation...\n",
      "Evaluate annotation type *bbox*\n",
      "DONE (t=0.77s).\n",
      "Accumulating evaluation results...\n",
      "DONE (t=0.16s).\n",
      " Average Precision  (AP) @[ IoU=0.20:0.20 | area=   all | maxDets=100 ] = 0.930\n",
      " Average Precision  (AP) @[ IoU=0.50      | area=   all | maxDets=100 ] = -1.000\n",
      " Average Precision  (AP) @[ IoU=0.75      | area=   all | maxDets=100 ] = -1.000\n",
      " Average Precision  (AP) @[ IoU=0.20:0.20 | area= small | maxDets=100 ] = -1.000\n",
      " Average Precision  (AP) @[ IoU=0.20:0.20 | area=medium | maxDets=100 ] = 0.000\n",
      " Average Precision  (AP) @[ IoU=0.20:0.20 | area= large | maxDets=100 ] = 0.930\n",
      " Average Recall     (AR) @[ IoU=0.20:0.20 | area=   all | maxDets=  1 ] = 0.584\n",
      " Average Recall     (AR) @[ IoU=0.20:0.20 | area=   all | maxDets= 10 ] = 0.962\n",
      " Average Recall     (AR) @[ IoU=0.20:0.20 | area=   all | maxDets=100 ] = 0.962\n",
      " Average Recall     (AR) @[ IoU=0.20:0.20 | area= small | maxDets=100 ] = -1.000\n",
      " Average Recall     (AR) @[ IoU=0.20:0.20 | area=medium | maxDets=100 ] = 0.000\n",
      " Average Recall     (AR) @[ IoU=0.20:0.20 | area= large | maxDets=100 ] = 0.962\n",
      "Running per image evaluation...\n",
      "Evaluate annotation type *bbox*\n",
      "DONE (t=0.92s).\n",
      "Accumulating evaluation results...\n",
      "DONE (t=0.23s).\n",
      " Average Precision  (AP) @[ IoU=0.30:0.30 | area=   all | maxDets=100 ] = 0.911\n",
      " Average Precision  (AP) @[ IoU=0.50      | area=   all | maxDets=100 ] = -1.000\n",
      " Average Precision  (AP) @[ IoU=0.75      | area=   all | maxDets=100 ] = -1.000\n",
      " Average Precision  (AP) @[ IoU=0.30:0.30 | area= small | maxDets=100 ] = -1.000\n",
      " Average Precision  (AP) @[ IoU=0.30:0.30 | area=medium | maxDets=100 ] = 0.000\n",
      " Average Precision  (AP) @[ IoU=0.30:0.30 | area= large | maxDets=100 ] = 0.917\n",
      " Average Recall     (AR) @[ IoU=0.30:0.30 | area=   all | maxDets=  1 ] = 0.581\n",
      " Average Recall     (AR) @[ IoU=0.30:0.30 | area=   all | maxDets= 10 ] = 0.950\n",
      " Average Recall     (AR) @[ IoU=0.30:0.30 | area=   all | maxDets=100 ] = 0.950\n",
      " Average Recall     (AR) @[ IoU=0.30:0.30 | area= small | maxDets=100 ] = -1.000\n",
      " Average Recall     (AR) @[ IoU=0.30:0.30 | area=medium | maxDets=100 ] = 0.000\n",
      " Average Recall     (AR) @[ IoU=0.30:0.30 | area= large | maxDets=100 ] = 0.950\n",
      "Running per image evaluation...\n",
      "Evaluate annotation type *bbox*\n",
      "DONE (t=0.75s).\n",
      "Accumulating evaluation results...\n",
      "DONE (t=0.31s).\n",
      " Average Precision  (AP) @[ IoU=0.40:0.40 | area=   all | maxDets=100 ] = 0.897\n",
      " Average Precision  (AP) @[ IoU=0.50      | area=   all | maxDets=100 ] = -1.000\n",
      " Average Precision  (AP) @[ IoU=0.75      | area=   all | maxDets=100 ] = -1.000\n",
      " Average Precision  (AP) @[ IoU=0.40:0.40 | area= small | maxDets=100 ] = -1.000\n",
      " Average Precision  (AP) @[ IoU=0.40:0.40 | area=medium | maxDets=100 ] = 0.000\n",
      " Average Precision  (AP) @[ IoU=0.40:0.40 | area= large | maxDets=100 ] = 0.897\n",
      " Average Recall     (AR) @[ IoU=0.40:0.40 | area=   all | maxDets=  1 ] = 0.576\n",
      " Average Recall     (AR) @[ IoU=0.40:0.40 | area=   all | maxDets= 10 ] = 0.939\n",
      " Average Recall     (AR) @[ IoU=0.40:0.40 | area=   all | maxDets=100 ] = 0.939\n",
      " Average Recall     (AR) @[ IoU=0.40:0.40 | area= small | maxDets=100 ] = -1.000\n",
      " Average Recall     (AR) @[ IoU=0.40:0.40 | area=medium | maxDets=100 ] = 0.000\n",
      " Average Recall     (AR) @[ IoU=0.40:0.40 | area= large | maxDets=100 ] = 0.939\n",
      "Running per image evaluation...\n",
      "Evaluate annotation type *bbox*\n",
      "DONE (t=0.82s).\n",
      "Accumulating evaluation results...\n",
      "DONE (t=0.27s).\n",
      " Average Precision  (AP) @[ IoU=0.50:0.50 | area=   all | maxDets=100 ] = 0.869\n",
      " Average Precision  (AP) @[ IoU=0.50      | area=   all | maxDets=100 ] = -1.000\n",
      " Average Precision  (AP) @[ IoU=0.75      | area=   all | maxDets=100 ] = -1.000\n",
      " Average Precision  (AP) @[ IoU=0.50:0.50 | area= small | maxDets=100 ] = -1.000\n",
      " Average Precision  (AP) @[ IoU=0.50:0.50 | area=medium | maxDets=100 ] = 0.000\n",
      " Average Precision  (AP) @[ IoU=0.50:0.50 | area= large | maxDets=100 ] = 0.869\n",
      " Average Recall     (AR) @[ IoU=0.50:0.50 | area=   all | maxDets=  1 ] = 0.562\n",
      " Average Recall     (AR) @[ IoU=0.50:0.50 | area=   all | maxDets= 10 ] = 0.917\n",
      " Average Recall     (AR) @[ IoU=0.50:0.50 | area=   all | maxDets=100 ] = 0.917\n",
      " Average Recall     (AR) @[ IoU=0.50:0.50 | area= small | maxDets=100 ] = -1.000\n",
      " Average Recall     (AR) @[ IoU=0.50:0.50 | area=medium | maxDets=100 ] = 0.000\n",
      " Average Recall     (AR) @[ IoU=0.50:0.50 | area= large | maxDets=100 ] = 0.918\n",
      "Running per image evaluation...\n",
      "Evaluate annotation type *bbox*\n",
      "DONE (t=0.78s).\n",
      "Accumulating evaluation results...\n",
      "DONE (t=0.17s).\n",
      " Average Precision  (AP) @[ IoU=0.60:0.60 | area=   all | maxDets=100 ] = 0.845\n",
      " Average Precision  (AP) @[ IoU=0.50      | area=   all | maxDets=100 ] = -1.000\n",
      " Average Precision  (AP) @[ IoU=0.75      | area=   all | maxDets=100 ] = -1.000\n",
      " Average Precision  (AP) @[ IoU=0.60:0.60 | area= small | maxDets=100 ] = -1.000\n",
      " Average Precision  (AP) @[ IoU=0.60:0.60 | area=medium | maxDets=100 ] = 0.000\n",
      " Average Precision  (AP) @[ IoU=0.60:0.60 | area= large | maxDets=100 ] = 0.845\n",
      " Average Recall     (AR) @[ IoU=0.60:0.60 | area=   all | maxDets=  1 ] = 0.552\n",
      " Average Recall     (AR) @[ IoU=0.60:0.60 | area=   all | maxDets= 10 ] = 0.896\n",
      " Average Recall     (AR) @[ IoU=0.60:0.60 | area=   all | maxDets=100 ] = 0.896\n",
      " Average Recall     (AR) @[ IoU=0.60:0.60 | area= small | maxDets=100 ] = -1.000\n",
      " Average Recall     (AR) @[ IoU=0.60:0.60 | area=medium | maxDets=100 ] = 0.000\n",
      " Average Recall     (AR) @[ IoU=0.60:0.60 | area= large | maxDets=100 ] = 0.896\n",
      "Running per image evaluation...\n",
      "Evaluate annotation type *bbox*\n",
      "DONE (t=0.84s).\n",
      "Accumulating evaluation results...\n",
      "DONE (t=0.15s).\n",
      " Average Precision  (AP) @[ IoU=0.70:0.70 | area=   all | maxDets=100 ] = 0.794\n",
      " Average Precision  (AP) @[ IoU=0.50      | area=   all | maxDets=100 ] = -1.000\n",
      " Average Precision  (AP) @[ IoU=0.75      | area=   all | maxDets=100 ] = -1.000\n",
      " Average Precision  (AP) @[ IoU=0.70:0.70 | area= small | maxDets=100 ] = -1.000\n",
      " Average Precision  (AP) @[ IoU=0.70:0.70 | area=medium | maxDets=100 ] = 0.000\n",
      " Average Precision  (AP) @[ IoU=0.70:0.70 | area= large | maxDets=100 ] = 0.794\n",
      " Average Recall     (AR) @[ IoU=0.70:0.70 | area=   all | maxDets=  1 ] = 0.534\n",
      " Average Recall     (AR) @[ IoU=0.70:0.70 | area=   all | maxDets= 10 ] = 0.855\n",
      " Average Recall     (AR) @[ IoU=0.70:0.70 | area=   all | maxDets=100 ] = 0.855\n",
      " Average Recall     (AR) @[ IoU=0.70:0.70 | area= small | maxDets=100 ] = -1.000\n",
      " Average Recall     (AR) @[ IoU=0.70:0.70 | area=medium | maxDets=100 ] = 0.000\n",
      " Average Recall     (AR) @[ IoU=0.70:0.70 | area= large | maxDets=100 ] = 0.855\n",
      "Running per image evaluation...\n",
      "Evaluate annotation type *bbox*\n"
     ]
    },
    {
     "name": "stdout",
     "output_type": "stream",
     "text": [
      "DONE (t=0.96s).\n",
      "Accumulating evaluation results...\n",
      "DONE (t=0.20s).\n",
      " Average Precision  (AP) @[ IoU=0.80:0.80 | area=   all | maxDets=100 ] = 0.690\n",
      " Average Precision  (AP) @[ IoU=0.50      | area=   all | maxDets=100 ] = -1.000\n",
      " Average Precision  (AP) @[ IoU=0.75      | area=   all | maxDets=100 ] = -1.000\n",
      " Average Precision  (AP) @[ IoU=0.80:0.80 | area= small | maxDets=100 ] = -1.000\n",
      " Average Precision  (AP) @[ IoU=0.80:0.80 | area=medium | maxDets=100 ] = 0.000\n",
      " Average Precision  (AP) @[ IoU=0.80:0.80 | area= large | maxDets=100 ] = 0.690\n",
      " Average Recall     (AR) @[ IoU=0.80:0.80 | area=   all | maxDets=  1 ] = 0.500\n",
      " Average Recall     (AR) @[ IoU=0.80:0.80 | area=   all | maxDets= 10 ] = 0.757\n",
      " Average Recall     (AR) @[ IoU=0.80:0.80 | area=   all | maxDets=100 ] = 0.757\n",
      " Average Recall     (AR) @[ IoU=0.80:0.80 | area= small | maxDets=100 ] = -1.000\n",
      " Average Recall     (AR) @[ IoU=0.80:0.80 | area=medium | maxDets=100 ] = 0.000\n",
      " Average Recall     (AR) @[ IoU=0.80:0.80 | area= large | maxDets=100 ] = 0.757\n",
      "Running per image evaluation...\n",
      "Evaluate annotation type *bbox*\n",
      "DONE (t=0.82s).\n",
      "Accumulating evaluation results...\n",
      "DONE (t=0.14s).\n",
      " Average Precision  (AP) @[ IoU=0.90:0.90 | area=   all | maxDets=100 ] = 0.413\n",
      " Average Precision  (AP) @[ IoU=0.50      | area=   all | maxDets=100 ] = -1.000\n",
      " Average Precision  (AP) @[ IoU=0.75      | area=   all | maxDets=100 ] = -1.000\n",
      " Average Precision  (AP) @[ IoU=0.90:0.90 | area= small | maxDets=100 ] = -1.000\n",
      " Average Precision  (AP) @[ IoU=0.90:0.90 | area=medium | maxDets=100 ] = 0.000\n",
      " Average Precision  (AP) @[ IoU=0.90:0.90 | area= large | maxDets=100 ] = 0.413\n",
      " Average Recall     (AR) @[ IoU=0.90:0.90 | area=   all | maxDets=  1 ] = 0.376\n",
      " Average Recall     (AR) @[ IoU=0.90:0.90 | area=   all | maxDets= 10 ] = 0.491\n",
      " Average Recall     (AR) @[ IoU=0.90:0.90 | area=   all | maxDets=100 ] = 0.491\n",
      " Average Recall     (AR) @[ IoU=0.90:0.90 | area= small | maxDets=100 ] = -1.000\n",
      " Average Recall     (AR) @[ IoU=0.90:0.90 | area=medium | maxDets=100 ] = 0.000\n",
      " Average Recall     (AR) @[ IoU=0.90:0.90 | area= large | maxDets=100 ] = 0.491\n"
     ]
    }
   ],
   "source": [
    "Result=[]\n",
    "for i in range(0,10):\n",
    "    cocoEval = COCOeval(cocoGt,cocoDt,'bbox')\n",
    "    if i==0:\n",
    "        i=0.1\n",
    "    \n",
    "    cocoEval.params.iouThrs=[i/10]\n",
    "    cocoEval.evaluate()\n",
    "    cocoEval.accumulate()\n",
    "    cocoEval.summarize()\n",
    "\n",
    "    Result.append([i/10,np.round(cocoEval.stats[0],decimals=3),np.round(cocoEval.stats[8],decimals=3)])"
   ]
  },
  {
   "cell_type": "code",
   "execution_count": 22,
   "metadata": {},
   "outputs": [
    {
     "data": {
      "text/plain": [
       "[[0.01, 0.941, 0.978],\n",
       " [0.1, 0.94, 0.973],\n",
       " [0.2, 0.93, 0.962],\n",
       " [0.3, 0.911, 0.95],\n",
       " [0.4, 0.897, 0.939],\n",
       " [0.5, 0.869, 0.917],\n",
       " [0.6, 0.845, 0.896],\n",
       " [0.7, 0.794, 0.855],\n",
       " [0.8, 0.69, 0.757],\n",
       " [0.9, 0.413, 0.491]]"
      ]
     },
     "execution_count": 22,
     "metadata": {},
     "output_type": "execute_result"
    }
   ],
   "source": [
    "Result"
   ]
  },
  {
   "cell_type": "code",
   "execution_count": 133,
   "metadata": {},
   "outputs": [
    {
     "data": {
      "text/plain": [
       "[[0.01, 0.963, 0.971],\n",
       " [0.1, 0.954, 0.969],\n",
       " [0.2, 0.954, 0.965],\n",
       " [0.3, 0.943, 0.958],\n",
       " [0.4, 0.94, 0.951],\n",
       " [0.5, 0.915, 0.933],\n",
       " [0.6, 0.89, 0.912],\n",
       " [0.7, 0.845, 0.877],\n",
       " [0.8, 0.743, 0.788],\n",
       " [0.9, 0.332, 0.451]]"
      ]
     },
     "execution_count": 133,
     "metadata": {},
     "output_type": "execute_result"
    }
   ],
   "source": [
    "Results On> (Score:0.8)\n",
    "[[0.01, 0.741, 0.748],\n",
    "[0.1, 0.741, 0.748],\n",
    "[0.2, 0.741, 0.747],\n",
    "[0.3, 0.74, 0.746],\n",
    "[0.4, 0.74, 0.743],\n",
    "[0.5, 0.727, 0.734],\n",
    "[0.6, 0.715, 0.725],\n",
    "[0.7, 0.701, 0.712],\n",
    "[0.8, 0.643, 0.668],\n",
    "[0.9, 0.307, 0.407]]"
   ]
  },
  {
   "cell_type": "code",
   "execution_count": 154,
   "metadata": {},
   "outputs": [],
   "source": [
    "ALL_ious=list(cocoEval.ious.values())"
   ]
  },
  {
   "cell_type": "code",
   "execution_count": null,
   "metadata": {},
   "outputs": [],
   "source": []
  },
  {
   "cell_type": "code",
   "execution_count": 162,
   "metadata": {},
   "outputs": [],
   "source": [
    "ALL_ious0=[np.round(k,decimals=3)  for g in ALL_ious for h in g for k in h]"
   ]
  },
  {
   "cell_type": "code",
   "execution_count": 165,
   "metadata": {},
   "outputs": [
    {
     "data": {
      "text/plain": [
       "array([[0.000e+00, 5.721e+03],\n",
       "       [1.000e-03, 3.000e+00],\n",
       "       [2.000e-03, 6.000e+00],\n",
       "       ...,\n",
       "       [9.890e-01, 1.000e+00],\n",
       "       [9.900e-01, 1.000e+00],\n",
       "       [9.910e-01, 1.000e+00]])"
      ]
     },
     "execution_count": 165,
     "metadata": {},
     "output_type": "execute_result"
    }
   ],
   "source": [
    "np.c_[np.unique(ALL_ious0,return_counts=True)]"
   ]
  },
  {
   "cell_type": "code",
   "execution_count": 171,
   "metadata": {},
   "outputs": [],
   "source": [
    "ALL_ious0=np.array(ALL_ious0)"
   ]
  },
  {
   "cell_type": "code",
   "execution_count": 177,
   "metadata": {},
   "outputs": [
    {
     "data": {
      "text/plain": [
       "(array([0.   , 0.001, 0.002, 0.003, 0.004, 0.005, 0.006, 0.007, 0.008,\n",
       "        0.009, 0.01 , 0.011, 0.012, 0.013, 0.014, 0.015, 0.017, 0.018,\n",
       "        0.02 , 0.021, 0.022, 0.023, 0.024, 0.025, 0.027, 0.028, 0.029,\n",
       "        0.031, 0.032, 0.033, 0.034, 0.035, 0.036, 0.037, 0.038, 0.039,\n",
       "        0.04 , 0.041, 0.042, 0.043, 0.045, 0.046, 0.047, 0.048, 0.049,\n",
       "        0.05 , 0.051, 0.052, 0.057, 0.058, 0.059, 0.06 , 0.061, 0.062,\n",
       "        0.063, 0.064, 0.065, 0.066, 0.067, 0.071, 0.072, 0.073, 0.074,\n",
       "        0.075, 0.076, 0.078, 0.079, 0.083, 0.084, 0.085, 0.086, 0.087,\n",
       "        0.088, 0.089, 0.091, 0.092, 0.093, 0.095, 0.096, 0.097, 0.099]),\n",
       " array([5721,    3,    6,    3,    4,    4,    5,    2,    2,    1,    5,\n",
       "           2,    3,    1,    3,    2,    4,    3,    4,    1,    2,    1,\n",
       "           3,    3,    1,    1,    2,    1,    3,    3,    2,    2,    1,\n",
       "           1,    2,    2,    2,    1,    2,    2,    3,    1,    2,    1,\n",
       "           2,    2,    1,    1,    1,    1,    1,    2,    2,    2,    1,\n",
       "           2,    2,    2,    3,    2,    3,    2,    1,    1,    1,    3,\n",
       "           2,    2,    4,    2,    3,    2,    1,    1,    1,    1,    3,\n",
       "           1,    3,    1,    1], dtype=int64))"
      ]
     },
     "execution_count": 177,
     "metadata": {},
     "output_type": "execute_result"
    }
   ],
   "source": [
    "np.unique(ALL_ious0[np.where(ALL_ious0<0.10)[0]],return_counts=True)"
   ]
  },
  {
   "cell_type": "code",
   "execution_count": 20,
   "metadata": {},
   "outputs": [
    {
     "data": {
      "text/plain": [
       "7466"
      ]
     },
     "execution_count": 20,
     "metadata": {},
     "output_type": "execute_result"
    }
   ],
   "source": [
    "sum(Count_prediction)"
   ]
  },
  {
   "cell_type": "code",
   "execution_count": 18,
   "metadata": {},
   "outputs": [],
   "source": [
    "Pre_Files_dir='Predicted/'\n",
    "Count_prediction=[]\n",
    "for ii in range(len(Pre_Files)):\n",
    "#     print(ii)\n",
    "    with open(Pre_Files_dir+'/'+Pre_Files[ii],'r') as f:\n",
    "        prefile_data0=f.read().split('\\n')\n",
    "    Count_prediction.append(len([g for g in prefile_data0 if g!='']))\n",
    "\n",
    "\n",
    "#     prefile_data=[float(g.split()[1]) for g in prefile_data0 if g!='']\n",
    "#     prefile_data0=np.delete(np.array(prefile_data0),np.where(np.array(prefile_data)<0.8)[0]).tolist()\n",
    "\n",
    "#     with open('2'+Pre_Files_dir+'/'+Pre_Files[ii],'w') as f:\n",
    "#         f.write('\\n'.join(prefile_data0))"
   ]
  }
 ],
 "metadata": {
  "kernelspec": {
   "display_name": "Python 3",
   "language": "python",
   "name": "python3"
  },
  "language_info": {
   "codemirror_mode": {
    "name": "ipython",
    "version": 3
   },
   "file_extension": ".py",
   "mimetype": "text/x-python",
   "name": "python",
   "nbconvert_exporter": "python",
   "pygments_lexer": "ipython3",
   "version": "3.7.7"
  }
 },
 "nbformat": 4,
 "nbformat_minor": 4
}
